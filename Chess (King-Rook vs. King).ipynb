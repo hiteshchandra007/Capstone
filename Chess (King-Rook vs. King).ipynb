{
 "cells": [
  {
   "cell_type": "markdown",
   "metadata": {},
   "source": [
    "# Chess (King-Rook vs. King) Data Set\n",
    "## Data preprocessing\n"
   ]
  },
  {
   "cell_type": "markdown",
   "metadata": {},
   "source": [
    "This dataset was taken from the UCI Machine Learning Repository at: https://archive.ics.uci.edu/ml/datasets/Chess+%28King-Rook+vs.+King%29\n",
    "  Here the dataset will have categorical values and integer values. There will be total of 28056 instances, and the total number of attributes is 6. The dataset here is a multivariate. "
   ]
  },
  {
   "cell_type": "code",
   "execution_count": 1,
   "metadata": {},
   "outputs": [],
   "source": [
    "# import all the requirements\n",
    "# import pandas and numpy \n",
    "import pandas as pd\n",
    "import numpy as np"
   ]
  },
  {
   "cell_type": "code",
   "execution_count": 2,
   "metadata": {},
   "outputs": [],
   "source": [
    "# read the data from krkopt.data using read_csv\n",
    "df = pd.read_csv('./krkopt.data', header=None)\n",
    "df.columns = ['wkf', 'wkr', 'wrf', 'wrr', 'bkf', 'bkr', 'class']"
   ]
  },
  {
   "cell_type": "code",
   "execution_count": 3,
   "metadata": {},
   "outputs": [
    {
     "data": {
      "text/plain": [
       "(28056, 7)"
      ]
     },
     "execution_count": 3,
     "metadata": {},
     "output_type": "execute_result"
    }
   ],
   "source": [
    "# know the shape of the data\n",
    "df.shape\n"
   ]
  },
  {
   "cell_type": "code",
   "execution_count": 4,
   "metadata": {},
   "outputs": [
    {
     "data": {
      "text/html": [
       "<div>\n",
       "<style scoped>\n",
       "    .dataframe tbody tr th:only-of-type {\n",
       "        vertical-align: middle;\n",
       "    }\n",
       "\n",
       "    .dataframe tbody tr th {\n",
       "        vertical-align: top;\n",
       "    }\n",
       "\n",
       "    .dataframe thead th {\n",
       "        text-align: right;\n",
       "    }\n",
       "</style>\n",
       "<table border=\"1\" class=\"dataframe\">\n",
       "  <thead>\n",
       "    <tr style=\"text-align: right;\">\n",
       "      <th></th>\n",
       "      <th>wkf</th>\n",
       "      <th>wkr</th>\n",
       "      <th>wrf</th>\n",
       "      <th>wrr</th>\n",
       "      <th>bkf</th>\n",
       "      <th>bkr</th>\n",
       "      <th>class</th>\n",
       "    </tr>\n",
       "  </thead>\n",
       "  <tbody>\n",
       "    <tr>\n",
       "      <th>0</th>\n",
       "      <td>a</td>\n",
       "      <td>1</td>\n",
       "      <td>b</td>\n",
       "      <td>3</td>\n",
       "      <td>c</td>\n",
       "      <td>2</td>\n",
       "      <td>draw</td>\n",
       "    </tr>\n",
       "    <tr>\n",
       "      <th>1</th>\n",
       "      <td>a</td>\n",
       "      <td>1</td>\n",
       "      <td>c</td>\n",
       "      <td>1</td>\n",
       "      <td>c</td>\n",
       "      <td>2</td>\n",
       "      <td>draw</td>\n",
       "    </tr>\n",
       "    <tr>\n",
       "      <th>2</th>\n",
       "      <td>a</td>\n",
       "      <td>1</td>\n",
       "      <td>c</td>\n",
       "      <td>1</td>\n",
       "      <td>d</td>\n",
       "      <td>1</td>\n",
       "      <td>draw</td>\n",
       "    </tr>\n",
       "    <tr>\n",
       "      <th>3</th>\n",
       "      <td>a</td>\n",
       "      <td>1</td>\n",
       "      <td>c</td>\n",
       "      <td>1</td>\n",
       "      <td>d</td>\n",
       "      <td>2</td>\n",
       "      <td>draw</td>\n",
       "    </tr>\n",
       "    <tr>\n",
       "      <th>4</th>\n",
       "      <td>a</td>\n",
       "      <td>1</td>\n",
       "      <td>c</td>\n",
       "      <td>2</td>\n",
       "      <td>c</td>\n",
       "      <td>1</td>\n",
       "      <td>draw</td>\n",
       "    </tr>\n",
       "  </tbody>\n",
       "</table>\n",
       "</div>"
      ],
      "text/plain": [
       "  wkf  wkr wrf  wrr bkf  bkr class\n",
       "0   a    1   b    3   c    2  draw\n",
       "1   a    1   c    1   c    2  draw\n",
       "2   a    1   c    1   d    1  draw\n",
       "3   a    1   c    1   d    2  draw\n",
       "4   a    1   c    2   c    1  draw"
      ]
     },
     "execution_count": 4,
     "metadata": {},
     "output_type": "execute_result"
    }
   ],
   "source": [
    "# using head() print the first five columns of the data\n",
    "df.head()"
   ]
  },
  {
   "cell_type": "code",
   "execution_count": 5,
   "metadata": {},
   "outputs": [
    {
     "data": {
      "text/html": [
       "<div>\n",
       "<style scoped>\n",
       "    .dataframe tbody tr th:only-of-type {\n",
       "        vertical-align: middle;\n",
       "    }\n",
       "\n",
       "    .dataframe tbody tr th {\n",
       "        vertical-align: top;\n",
       "    }\n",
       "\n",
       "    .dataframe thead th {\n",
       "        text-align: right;\n",
       "    }\n",
       "</style>\n",
       "<table border=\"1\" class=\"dataframe\">\n",
       "  <thead>\n",
       "    <tr style=\"text-align: right;\">\n",
       "      <th></th>\n",
       "      <th>wkr</th>\n",
       "      <th>wrr</th>\n",
       "      <th>bkr</th>\n",
       "    </tr>\n",
       "  </thead>\n",
       "  <tbody>\n",
       "    <tr>\n",
       "      <th>count</th>\n",
       "      <td>28056.000000</td>\n",
       "      <td>28056.000000</td>\n",
       "      <td>28056.000000</td>\n",
       "    </tr>\n",
       "    <tr>\n",
       "      <th>mean</th>\n",
       "      <td>1.854006</td>\n",
       "      <td>4.512404</td>\n",
       "      <td>4.451811</td>\n",
       "    </tr>\n",
       "    <tr>\n",
       "      <th>std</th>\n",
       "      <td>0.926414</td>\n",
       "      <td>2.282723</td>\n",
       "      <td>2.248387</td>\n",
       "    </tr>\n",
       "    <tr>\n",
       "      <th>min</th>\n",
       "      <td>1.000000</td>\n",
       "      <td>1.000000</td>\n",
       "      <td>1.000000</td>\n",
       "    </tr>\n",
       "    <tr>\n",
       "      <th>25%</th>\n",
       "      <td>1.000000</td>\n",
       "      <td>3.000000</td>\n",
       "      <td>3.000000</td>\n",
       "    </tr>\n",
       "    <tr>\n",
       "      <th>50%</th>\n",
       "      <td>2.000000</td>\n",
       "      <td>5.000000</td>\n",
       "      <td>4.000000</td>\n",
       "    </tr>\n",
       "    <tr>\n",
       "      <th>75%</th>\n",
       "      <td>2.000000</td>\n",
       "      <td>6.000000</td>\n",
       "      <td>6.000000</td>\n",
       "    </tr>\n",
       "    <tr>\n",
       "      <th>max</th>\n",
       "      <td>4.000000</td>\n",
       "      <td>8.000000</td>\n",
       "      <td>8.000000</td>\n",
       "    </tr>\n",
       "  </tbody>\n",
       "</table>\n",
       "</div>"
      ],
      "text/plain": [
       "                wkr           wrr           bkr\n",
       "count  28056.000000  28056.000000  28056.000000\n",
       "mean       1.854006      4.512404      4.451811\n",
       "std        0.926414      2.282723      2.248387\n",
       "min        1.000000      1.000000      1.000000\n",
       "25%        1.000000      3.000000      3.000000\n",
       "50%        2.000000      5.000000      4.000000\n",
       "75%        2.000000      6.000000      6.000000\n",
       "max        4.000000      8.000000      8.000000"
      ]
     },
     "execution_count": 5,
     "metadata": {},
     "output_type": "execute_result"
    }
   ],
   "source": [
    "#use to know the information like min,max,mean etc...\n",
    "df.describe()"
   ]
  },
  {
   "cell_type": "code",
   "execution_count": 6,
   "metadata": {},
   "outputs": [
    {
     "data": {
      "text/plain": [
       "array(['draw', 'zero', 'one', 'two', 'three', 'four', 'five', 'six',\n",
       "       'seven', 'eight', 'nine', 'ten', 'eleven', 'twelve', 'thirteen',\n",
       "       'fourteen', 'fifteen', 'sixteen'], dtype=object)"
      ]
     },
     "execution_count": 6,
     "metadata": {},
     "output_type": "execute_result"
    }
   ],
   "source": [
    "# using unique() find the unique class labels\n",
    "df['class'].unique()"
   ]
  },
  {
   "cell_type": "code",
   "execution_count": 7,
   "metadata": {},
   "outputs": [
    {
     "data": {
      "text/plain": [
       "fourteen    4553\n",
       "thirteen    4194\n",
       "twelve      3597\n",
       "eleven      2854\n",
       "draw        2796\n",
       "fifteen     2166\n",
       "ten         1985\n",
       "nine        1712\n",
       "eight       1433\n",
       "seven        683\n",
       "six          592\n",
       "five         471\n",
       "sixteen      390\n",
       "two          246\n",
       "four         198\n",
       "three         81\n",
       "one           78\n",
       "zero          27\n",
       "Name: class, dtype: int64"
      ]
     },
     "execution_count": 7,
     "metadata": {},
     "output_type": "execute_result"
    }
   ],
   "source": [
    "#Using value_counts() we will get the information of class\n",
    "df['class'].value_counts()"
   ]
  },
  {
   "cell_type": "code",
   "execution_count": 8,
   "metadata": {},
   "outputs": [
    {
     "name": "stdout",
     "output_type": "stream",
     "text": [
      "<class 'pandas.core.frame.DataFrame'>\n",
      "RangeIndex: 28056 entries, 0 to 28055\n",
      "Data columns (total 7 columns):\n",
      "wkf      28056 non-null object\n",
      "wkr      28056 non-null int64\n",
      "wrf      28056 non-null object\n",
      "wrr      28056 non-null int64\n",
      "bkf      28056 non-null object\n",
      "bkr      28056 non-null int64\n",
      "class    28056 non-null object\n",
      "dtypes: int64(3), object(4)\n",
      "memory usage: 1.5+ MB\n"
     ]
    }
   ],
   "source": [
    "# using info() find the information of the attributes\n",
    "df.info()"
   ]
  },
  {
   "cell_type": "code",
   "execution_count": 9,
   "metadata": {},
   "outputs": [
    {
     "data": {
      "text/plain": [
       "wkf      0\n",
       "wkr      0\n",
       "wrf      0\n",
       "wrr      0\n",
       "bkf      0\n",
       "bkr      0\n",
       "class    0\n",
       "dtype: int64"
      ]
     },
     "execution_count": 9,
     "metadata": {},
     "output_type": "execute_result"
    }
   ],
   "source": [
    "#using isnull() find whether there are any missing data points in every attribute\n",
    "df.isnull().sum()"
   ]
  },
  {
   "cell_type": "markdown",
   "metadata": {},
   "source": [
    "We can clearly see that there are no missing attributes in the data that is provided. \n",
    "\n",
    "Now we will find the information of each and every attribute separately, By using value_counts()"
   ]
  },
  {
   "cell_type": "code",
   "execution_count": 28,
   "metadata": {},
   "outputs": [
    {
     "data": {
      "image/png": "[encoded data removed]",
      "text/plain": [
       "<Figure size 360x360 with 2 Axes>"
      ]
     },
     "metadata": {
      "needs_background": "light"
     },
     "output_type": "display_data"
    }
   ],
   "source": [
    "# we will now plot the heatmap to know about the correaltion between the attributes.\n",
    "# import matplotlib.pyplot and seaborn\n",
    "import matplotlib.pyplot as plt\n",
    "import seaborn as sns\n",
    "#heatmap to find the correlation.\n",
    "sns.heatmap(df.corr(),annot=True,cmap='terrain',linewidths=0.1)\n",
    "fig=plt.gcf()\n",
    "fig.set_size_inches(5,5)\n",
    "plt.show()"
   ]
  },
  {
   "cell_type": "markdown",
   "metadata": {},
   "source": [
    "From the above heatmap we can clearly know that there is no much correlation."
   ]
  },
  {
   "cell_type": "code",
   "execution_count": 11,
   "metadata": {},
   "outputs": [
    {
     "data": {
      "text/plain": [
       "d    12136\n",
       "c     8726\n",
       "b     5316\n",
       "a     1878\n",
       "Name: wkf, dtype: int64"
      ]
     },
     "execution_count": 11,
     "metadata": {},
     "output_type": "execute_result"
    }
   ],
   "source": [
    "#Using value_counts() we will get the information of wkf(White king file)\n",
    "df['wkf'].value_counts()"
   ]
  },
  {
   "cell_type": "code",
   "execution_count": 12,
   "metadata": {},
   "outputs": [
    {
     "data": {
      "text/plain": [
       "1    12666\n",
       "2     8540\n",
       "3     5130\n",
       "4     1720\n",
       "Name: wkr, dtype: int64"
      ]
     },
     "execution_count": 12,
     "metadata": {},
     "output_type": "execute_result"
    }
   ],
   "source": [
    "#Using value_counts() we will get the information of wkr(white king rank)\n",
    "df['wkr'].value_counts()"
   ]
  },
  {
   "cell_type": "code",
   "execution_count": 13,
   "metadata": {},
   "outputs": [
    {
     "data": {
      "text/plain": [
       "h    3616\n",
       "g    3599\n",
       "f    3582\n",
       "e    3576\n",
       "a    3468\n",
       "b    3438\n",
       "c    3409\n",
       "d    3368\n",
       "Name: wrf, dtype: int64"
      ]
     },
     "execution_count": 13,
     "metadata": {},
     "output_type": "execute_result"
    }
   ],
   "source": [
    "#Using value_counts() we will get the information of wrf(white rook file)\n",
    "df['wrf'].value_counts()"
   ]
  },
  {
   "cell_type": "code",
   "execution_count": 14,
   "metadata": {},
   "outputs": [
    {
     "data": {
      "text/plain": [
       "5    3549\n",
       "4    3541\n",
       "6    3531\n",
       "7    3514\n",
       "3    3512\n",
       "8    3497\n",
       "2    3483\n",
       "1    3429\n",
       "Name: wrr, dtype: int64"
      ]
     },
     "execution_count": 14,
     "metadata": {},
     "output_type": "execute_result"
    }
   ],
   "source": [
    "#Using value_counts() we will get the information of wrr(white rook rank)\n",
    "df['wrr'].value_counts()"
   ]
  },
  {
   "cell_type": "code",
   "execution_count": 15,
   "metadata": {},
   "outputs": [
    {
     "data": {
      "text/plain": [
       "h    4848\n",
       "g    4600\n",
       "f    4352\n",
       "e    3450\n",
       "a    2920\n",
       "d    2796\n",
       "b    2700\n",
       "c    2390\n",
       "Name: bkf, dtype: int64"
      ]
     },
     "execution_count": 15,
     "metadata": {},
     "output_type": "execute_result"
    }
   ],
   "source": [
    "#Using value_counts() we will get the information of bkf(black king file)\n",
    "df['bkf'].value_counts()"
   ]
  },
  {
   "cell_type": "code",
   "execution_count": 16,
   "metadata": {},
   "outputs": [
    {
     "data": {
      "text/plain": [
       "5    3822\n",
       "4    3788\n",
       "1    3664\n",
       "6    3608\n",
       "3    3506\n",
       "7    3360\n",
       "2    3196\n",
       "8    3112\n",
       "Name: bkr, dtype: int64"
      ]
     },
     "execution_count": 16,
     "metadata": {},
     "output_type": "execute_result"
    }
   ],
   "source": [
    "#Using value_counts() we will get the information of bkr(black king rank)\n",
    "df['bkr'].value_counts()"
   ]
  },
  {
   "cell_type": "code",
   "execution_count": 17,
   "metadata": {},
   "outputs": [],
   "source": [
    "#Convert categorical variable into dummy/indicator variables by using pd.get_dummies()\n",
    "d_wkf = pd.get_dummies(df['wkf'], prefix='wkf')\n",
    "d_wkr = pd.get_dummies(df['wkr'], prefix='wkr')\n",
    "d_wrf = pd.get_dummies(df['wrf'], prefix='wrf')\n",
    "d_wrr = pd.get_dummies(df['wrr'], prefix='wrr')\n",
    "d_bkf = pd.get_dummies(df['bkf'], prefix='bkf')\n",
    "d_bkr = pd.get_dummies(df['bkr'], prefix='bkr')"
   ]
  },
  {
   "cell_type": "code",
   "execution_count": 18,
   "metadata": {},
   "outputs": [],
   "source": [
    "df_new = pd.concat([d_wkf, d_wkr, d_wrf, d_wrr, d_bkf, d_bkr, df['class']], axis=1)"
   ]
  },
  {
   "cell_type": "code",
   "execution_count": 19,
   "metadata": {},
   "outputs": [
    {
     "data": {
      "text/plain": [
       "(28056, 40)"
      ]
     },
     "execution_count": 19,
     "metadata": {},
     "output_type": "execute_result"
    }
   ],
   "source": [
    "# We will now look at the new shape of the data after converting into dummies.\n",
    "df_new.iloc[:, :-1].shape"
   ]
  },
  {
   "cell_type": "markdown",
   "metadata": {},
   "source": [
    "LabelEncoder can be used to normalize labels. We will import LabelEncoder from sklearn.preprocessing we will also use fit_transform(y) for Fit label encoder and return encoded labels"
   ]
  },
  {
   "cell_type": "code",
   "execution_count": 20,
   "metadata": {},
   "outputs": [
    {
     "data": {
      "text/plain": [
       "array(['draw', 'eight', 'eleven', 'fifteen', 'five', 'four', 'fourteen',\n",
       "       'nine', 'one', 'seven', 'six', 'sixteen', 'ten', 'thirteen',\n",
       "       'three', 'twelve', 'two', 'zero'], dtype=object)"
      ]
     },
     "execution_count": 20,
     "metadata": {},
     "output_type": "execute_result"
    }
   ],
   "source": [
    "# import LabelEncoder \n",
    "from sklearn.preprocessing import LabelEncoder\n",
    "X = df_new.iloc[:, :-1]\n",
    "y = df_new['class']\n",
    "le = LabelEncoder()\n",
    "#fit label encoder and return encoded values using fit_transform (y)\n",
    "y = le.fit_transform(y)\n",
    "le.classes_"
   ]
  },
  {
   "cell_type": "code",
   "execution_count": 21,
   "metadata": {},
   "outputs": [
    {
     "data": {
      "text/plain": [
       "array([ 0,  1,  2,  3,  4,  5,  6,  7,  8,  9, 10, 11, 12, 13, 14, 15, 16,\n",
       "       17])"
      ]
     },
     "execution_count": 21,
     "metadata": {},
     "output_type": "execute_result"
    }
   ],
   "source": [
    "# We will use le.transform() for Transform labels to normalized encoding.\n",
    "le.transform(le.classes_)"
   ]
  },
  {
   "cell_type": "code",
   "execution_count": 22,
   "metadata": {},
   "outputs": [
    {
     "data": {
      "text/html": [
       "<div>\n",
       "<style scoped>\n",
       "    .dataframe tbody tr th:only-of-type {\n",
       "        vertical-align: middle;\n",
       "    }\n",
       "\n",
       "    .dataframe tbody tr th {\n",
       "        vertical-align: top;\n",
       "    }\n",
       "\n",
       "    .dataframe thead th {\n",
       "        text-align: right;\n",
       "    }\n",
       "</style>\n",
       "<table border=\"1\" class=\"dataframe\">\n",
       "  <thead>\n",
       "    <tr style=\"text-align: right;\">\n",
       "      <th></th>\n",
       "      <th>wkf_a</th>\n",
       "      <th>wkf_b</th>\n",
       "      <th>wkf_c</th>\n",
       "      <th>wkf_d</th>\n",
       "      <th>wkr_1</th>\n",
       "      <th>wkr_2</th>\n",
       "      <th>wkr_3</th>\n",
       "      <th>wkr_4</th>\n",
       "      <th>wrf_a</th>\n",
       "      <th>wrf_b</th>\n",
       "      <th>...</th>\n",
       "      <th>bkf_h</th>\n",
       "      <th>bkr_1</th>\n",
       "      <th>bkr_2</th>\n",
       "      <th>bkr_3</th>\n",
       "      <th>bkr_4</th>\n",
       "      <th>bkr_5</th>\n",
       "      <th>bkr_6</th>\n",
       "      <th>bkr_7</th>\n",
       "      <th>bkr_8</th>\n",
       "      <th>class</th>\n",
       "    </tr>\n",
       "  </thead>\n",
       "  <tbody>\n",
       "    <tr>\n",
       "      <th>0</th>\n",
       "      <td>1</td>\n",
       "      <td>0</td>\n",
       "      <td>0</td>\n",
       "      <td>0</td>\n",
       "      <td>1</td>\n",
       "      <td>0</td>\n",
       "      <td>0</td>\n",
       "      <td>0</td>\n",
       "      <td>0</td>\n",
       "      <td>1</td>\n",
       "      <td>...</td>\n",
       "      <td>0</td>\n",
       "      <td>0</td>\n",
       "      <td>1</td>\n",
       "      <td>0</td>\n",
       "      <td>0</td>\n",
       "      <td>0</td>\n",
       "      <td>0</td>\n",
       "      <td>0</td>\n",
       "      <td>0</td>\n",
       "      <td>draw</td>\n",
       "    </tr>\n",
       "    <tr>\n",
       "      <th>1</th>\n",
       "      <td>1</td>\n",
       "      <td>0</td>\n",
       "      <td>0</td>\n",
       "      <td>0</td>\n",
       "      <td>1</td>\n",
       "      <td>0</td>\n",
       "      <td>0</td>\n",
       "      <td>0</td>\n",
       "      <td>0</td>\n",
       "      <td>0</td>\n",
       "      <td>...</td>\n",
       "      <td>0</td>\n",
       "      <td>0</td>\n",
       "      <td>1</td>\n",
       "      <td>0</td>\n",
       "      <td>0</td>\n",
       "      <td>0</td>\n",
       "      <td>0</td>\n",
       "      <td>0</td>\n",
       "      <td>0</td>\n",
       "      <td>draw</td>\n",
       "    </tr>\n",
       "    <tr>\n",
       "      <th>2</th>\n",
       "      <td>1</td>\n",
       "      <td>0</td>\n",
       "      <td>0</td>\n",
       "      <td>0</td>\n",
       "      <td>1</td>\n",
       "      <td>0</td>\n",
       "      <td>0</td>\n",
       "      <td>0</td>\n",
       "      <td>0</td>\n",
       "      <td>0</td>\n",
       "      <td>...</td>\n",
       "      <td>0</td>\n",
       "      <td>1</td>\n",
       "      <td>0</td>\n",
       "      <td>0</td>\n",
       "      <td>0</td>\n",
       "      <td>0</td>\n",
       "      <td>0</td>\n",
       "      <td>0</td>\n",
       "      <td>0</td>\n",
       "      <td>draw</td>\n",
       "    </tr>\n",
       "    <tr>\n",
       "      <th>3</th>\n",
       "      <td>1</td>\n",
       "      <td>0</td>\n",
       "      <td>0</td>\n",
       "      <td>0</td>\n",
       "      <td>1</td>\n",
       "      <td>0</td>\n",
       "      <td>0</td>\n",
       "      <td>0</td>\n",
       "      <td>0</td>\n",
       "      <td>0</td>\n",
       "      <td>...</td>\n",
       "      <td>0</td>\n",
       "      <td>0</td>\n",
       "      <td>1</td>\n",
       "      <td>0</td>\n",
       "      <td>0</td>\n",
       "      <td>0</td>\n",
       "      <td>0</td>\n",
       "      <td>0</td>\n",
       "      <td>0</td>\n",
       "      <td>draw</td>\n",
       "    </tr>\n",
       "    <tr>\n",
       "      <th>4</th>\n",
       "      <td>1</td>\n",
       "      <td>0</td>\n",
       "      <td>0</td>\n",
       "      <td>0</td>\n",
       "      <td>1</td>\n",
       "      <td>0</td>\n",
       "      <td>0</td>\n",
       "      <td>0</td>\n",
       "      <td>0</td>\n",
       "      <td>0</td>\n",
       "      <td>...</td>\n",
       "      <td>0</td>\n",
       "      <td>1</td>\n",
       "      <td>0</td>\n",
       "      <td>0</td>\n",
       "      <td>0</td>\n",
       "      <td>0</td>\n",
       "      <td>0</td>\n",
       "      <td>0</td>\n",
       "      <td>0</td>\n",
       "      <td>draw</td>\n",
       "    </tr>\n",
       "  </tbody>\n",
       "</table>\n",
       "<p>5 rows × 41 columns</p>\n",
       "</div>"
      ],
      "text/plain": [
       "   wkf_a  wkf_b  wkf_c  wkf_d  wkr_1  wkr_2  wkr_3  wkr_4  wrf_a  wrf_b  \\\n",
       "0      1      0      0      0      1      0      0      0      0      1   \n",
       "1      1      0      0      0      1      0      0      0      0      0   \n",
       "2      1      0      0      0      1      0      0      0      0      0   \n",
       "3      1      0      0      0      1      0      0      0      0      0   \n",
       "4      1      0      0      0      1      0      0      0      0      0   \n",
       "\n",
       "   ...    bkf_h  bkr_1  bkr_2  bkr_3  bkr_4  bkr_5  bkr_6  bkr_7  bkr_8  class  \n",
       "0  ...        0      0      1      0      0      0      0      0      0   draw  \n",
       "1  ...        0      0      1      0      0      0      0      0      0   draw  \n",
       "2  ...        0      1      0      0      0      0      0      0      0   draw  \n",
       "3  ...        0      0      1      0      0      0      0      0      0   draw  \n",
       "4  ...        0      1      0      0      0      0      0      0      0   draw  \n",
       "\n",
       "[5 rows x 41 columns]"
      ]
     },
     "execution_count": 22,
     "metadata": {},
     "output_type": "execute_result"
    }
   ],
   "source": [
    "#Know about the new head\n",
    "df_new.head()"
   ]
  },
  {
   "cell_type": "code",
   "execution_count": 23,
   "metadata": {},
   "outputs": [
    {
     "data": {
      "text/plain": [
       "array([ 0,  1,  2,  3,  4,  5,  6,  7,  8,  9, 10, 11, 12, 13, 14, 15, 16,\n",
       "       17])"
      ]
     },
     "execution_count": 23,
     "metadata": {},
     "output_type": "execute_result"
    }
   ],
   "source": [
    "np.unique(y)"
   ]
  },
  {
   "cell_type": "markdown",
   "metadata": {},
   "source": [
    " Now we will split the data and create our models."
   ]
  },
  {
   "cell_type": "markdown",
   "metadata": {},
   "source": [
    "## Create our model"
   ]
  },
  {
   "cell_type": "code",
   "execution_count": 24,
   "metadata": {},
   "outputs": [],
   "source": [
    "# import train_test_split from model_selection and accuracy score, classification report from metrics\n",
    "from sklearn.model_selection import train_test_split\n",
    "from sklearn.metrics import f1_score, classification_report\n",
    "# split the total data into 70% training data and 30% testing data.\n",
    "\n",
    "X_train, X_test, y_train, y_test = train_test_split(X, y, test_size=0.3, random_state=42)"
   ]
  },
  {
   "cell_type": "markdown",
   "metadata": {},
   "source": [
    "### For taking a reference model that is a benchmark model we will select Decision tree as the bencmark model. We will try to achieve the better accuracy than this benchmark model"
   ]
  },
  {
   "cell_type": "code",
   "execution_count": 25,
   "metadata": {},
   "outputs": [
    {
     "data": {
      "text/plain": [
       "(8417, 40)"
      ]
     },
     "execution_count": 25,
     "metadata": {},
     "output_type": "execute_result"
    }
   ],
   "source": [
    "X_test.shape"
   ]
  },
  {
   "cell_type": "code",
   "execution_count": 34,
   "metadata": {},
   "outputs": [
    {
     "name": "stdout",
     "output_type": "stream",
     "text": [
      "\n",
      "Decision tree - Train F score 0.652\n",
      "\n",
      "Decision tree - Test F score 0.601\n"
     ]
    }
   ],
   "source": [
    "# import DecisionTreeClassifier from sklearn.tree\n",
    "from sklearn import tree\n",
    "dt = tree.DecisionTreeClassifier(min_samples_split = 50)\n",
    "# fit the training data\n",
    "dt = dt.fit(X_train, y_train)\n",
    "# predict the training data\n",
    "pred = dt.predict(X_train)\n",
    "# calculate f_score of training data\n",
    "print('\\nDecision tree - Train F score', round(f1_score(y_train, pred,average='micro'),3))\n",
    "# predict the testing data\n",
    "pred = dt.predict(X_test)\n",
    "# calculate f_score of testing data\n",
    "print('\\nDecision tree - Test F score', round(f1_score(y_test, pred,average='micro'),3))"
   ]
  },
  {
   "cell_type": "markdown",
   "metadata": {},
   "source": [
    "#### We achieved a test accuracy of 0.601 and we will try to achieve the better model than this benchmark model and we will declare that model with better accuracy than this benchmark Model as the better model"
   ]
  },
  {
   "cell_type": "markdown",
   "metadata": {},
   "source": [
    "### Random Forest"
   ]
  },
  {
   "cell_type": "code",
   "execution_count": 35,
   "metadata": {},
   "outputs": [
    {
     "name": "stdout",
     "output_type": "stream",
     "text": [
      "\n",
      "Random Forest - Train F score 1.0\n",
      "\n",
      "Random Forest - Test F score 0.737\n"
     ]
    }
   ],
   "source": [
    "# import RandomForestClassifier from sklear.ensemble \n",
    "from sklearn.ensemble import RandomForestClassifier\n",
    "rf_fit = RandomForestClassifier(n_estimators=1000,random_state=1)\n",
    "# fit the training data \n",
    "rf_fit.fit(X_train, y_train)\n",
    "\n",
    "# find the accuracy score of trained data\n",
    "print('\\nRandom Forest - Train F score', f1_score(y_train, rf_fit.predict(X_train),average='micro'))\n",
    "\n",
    " # find the accuracy score of  testing data\n",
    "print('\\nRandom Forest - Test F score', round(f1_score(y_test, rf_fit.predict(X_test),average='micro'),3))"
   ]
  },
  {
   "cell_type": "markdown",
   "metadata": {},
   "source": [
    "### Support Vector Machine"
   ]
  },
  {
   "cell_type": "code",
   "execution_count": 36,
   "metadata": {},
   "outputs": [
    {
     "name": "stdout",
     "output_type": "stream",
     "text": [
      "\n",
      "rbf SVM - Train F score:  0.715\n",
      "\n",
      "rbf SVM - Test F score:  0.654\n"
     ]
    }
   ],
   "source": [
    "# import svm from sklearn\n",
    "from sklearn import svm # Support vector machine\n",
    "\n",
    "rbfSVM = svm.SVC(kernel='rbf', C=1, gamma=0.1)\n",
    "#fit the training data\n",
    "rbfSVM.fit(X_train, y_train)\n",
    "# find the accuracy of trained data\n",
    "pred = rbfSVM.predict(X_train)\n",
    "print('\\nrbf SVM - Train F score: ',round(f1_score(y_train, pred,average='micro'),3))\n",
    "# find the accuracy score of testing data\n",
    "pred = rbfSVM.predict(X_test)\n",
    "print('\\nrbf SVM - Test F score: ',round(f1_score(y_test, pred,average='micro'),3))"
   ]
  },
  {
   "cell_type": "markdown",
   "metadata": {},
   "source": [
    "#### From the above two classification models used we can see that random forest has the best accuracy with the test F score of 0.737. so we can say that out of the two chosen models random forest is the best. It also achieves far more accuracy than the benchmark model."
   ]
  },
  {
   "cell_type": "markdown",
   "metadata": {},
   "source": [
    "#### See whether the change in the random state change the accuracy drastically."
   ]
  },
  {
   "cell_type": "code",
   "execution_count": 40,
   "metadata": {},
   "outputs": [
    {
     "name": "stdout",
     "output_type": "stream",
     "text": [
      "\n",
      "Random Forest - Train F score 1.0\n",
      "\n",
      "Random Forest - Test F score 0.737\n"
     ]
    }
   ],
   "source": [
    "# import RandomForestClassifier from sklear.ensemble \n",
    "from sklearn.ensemble import RandomForestClassifier\n",
    "rf_fit = RandomForestClassifier(n_estimators=1000,random_state=1)\n",
    "# fit the training data \n",
    "rf_fit.fit(X_train, y_train)\n",
    "\n",
    "# find the accuracy score of trained data\n",
    "print('\\nRandom Forest - Train F score', round(f1_score(y_train, rf_fit.predict(X_train),average='micro'),3))\n",
    "\n",
    " # find the accuracy score of  testing data\n",
    "print('\\nRandom Forest - Test F score', round(f1_score(y_test, rf_fit.predict(X_test),average='micro'),3))"
   ]
  },
  {
   "cell_type": "code",
   "execution_count": 38,
   "metadata": {},
   "outputs": [
    {
     "name": "stdout",
     "output_type": "stream",
     "text": [
      "\n",
      "Random Forest - Train F score 1.0\n",
      "\n",
      "Random Forest - Test F score 0.736\n"
     ]
    }
   ],
   "source": [
    "# import RandomForestClassifier from sklear.ensemble \n",
    "#we check for the random_state=2\n",
    "# import RandomForestClassifier from sklear.ensemble \n",
    "from sklearn.ensemble import RandomForestClassifier\n",
    "rf_fit = RandomForestClassifier(n_estimators=1000,random_state=2)\n",
    "# fit the training data \n",
    "rf_fit.fit(X_train, y_train)\n",
    "\n",
    "# find the accuracy score of trained data\n",
    "print('\\nRandom Forest - Train F score', round(f1_score(y_train, rf_fit.predict(X_train),average='micro'),3))\n",
    "\n",
    " # find the accuracy score of  testing data\n",
    "print('\\nRandom Forest - Test F score', round(f1_score(y_test, rf_fit.predict(X_test),average='micro'),3))"
   ]
  },
  {
   "cell_type": "code",
   "execution_count": 39,
   "metadata": {},
   "outputs": [
    {
     "name": "stdout",
     "output_type": "stream",
     "text": [
      "\n",
      "Random Forest - Train F score 1.0\n",
      "\n",
      "Random Forest - Test F score 0.738\n"
     ]
    }
   ],
   "source": [
    "# import RandomForestClassifier from sklear.ensemble \n",
    "# now we will check for random_state=3\n",
    "# import RandomForestClassifier from sklear.ensemble \n",
    "from sklearn.ensemble import RandomForestClassifier\n",
    "rf_fit = RandomForestClassifier(n_estimators=1000,random_state=3)\n",
    "# fit the training data \n",
    "rf_fit.fit(X_train, y_train)\n",
    "\n",
    "# find the accuracy score of trained data\n",
    "print('\\nRandom Forest - Train F score', round(f1_score(y_train, rf_fit.predict(X_train),average='micro'),3))\n",
    "\n",
    " # find the accuracy score of  testing data\n",
    "print('\\nRandom Forest - Test F score', round(f1_score(y_test, rf_fit.predict(X_test),average='micro'),3))"
   ]
  },
  {
   "cell_type": "markdown",
   "metadata": {},
   "source": [
    "#### From the above three codes we can see that the F score will not drastically change and the mean F score is same as the F score obained when we assign random_state=1 i.e. 0.738. So we can say that the changes in the data will not efect the accuracy drastically."
   ]
  },
  {
   "cell_type": "markdown",
   "metadata": {},
   "source": [
    "### Refinement\n",
    " Now we will refine the model which we obtained above. We will tune the random forest and will try to obtain the better F score than the aboveobtained random forest.\n",
    " We will assign n_estimators=[450,500] and criterian as 'gini' and 'entropy'inorder to achieve the better F score than the above model."
   ]
  },
  {
   "cell_type": "code",
   "execution_count": 41,
   "metadata": {},
   "outputs": [
    {
     "name": "stderr",
     "output_type": "stream",
     "text": [
      "C:\\Users\\mypc\\Anaconda3.0\\lib\\site-packages\\sklearn\\model_selection\\_split.py:2053: FutureWarning: You should specify a value for 'cv' instead of relying on the default value. The default value will change from 3 to 5 in version 0.22.\n",
      "  warnings.warn(CV_WARNING, FutureWarning)\n",
      "C:\\Users\\mypc\\Anaconda3.0\\lib\\site-packages\\sklearn\\ensemble\\forest.py:246: FutureWarning: The default value of n_estimators will change from 10 in version 0.20 to 100 in 0.22.\n",
      "  \"10 in version 0.20 to 100 in 0.22.\", FutureWarning)\n"
     ]
    },
    {
     "name": "stdout",
     "output_type": "stream",
     "text": [
      "\n",
      "Optimized Model\n",
      "------\n",
      "Final f1 score on the testing data: 0.7400\n"
     ]
    }
   ],
   "source": [
    "from sklearn.metrics import make_scorer, accuracy_score, fbeta_score\n",
    "from sklearn.model_selection import GridSearchCV\n",
    "clf = RandomForestClassifier(random_state=1)\n",
    "\n",
    "# TODO: Create the parameters list you wish to tune\n",
    "parameters = {'n_estimators': [450,500], \n",
    "              'criterion': ['gini', 'entropy']}\n",
    "\n",
    "# TODO: Make an fbeta_score scoring object\n",
    "\n",
    "\n",
    "# TODO: Perform grid search on the classifier using 'scorer' as the scoring method\n",
    "grid_obj = GridSearchCV(clf,parameters,scoring='accuracy')\n",
    "\n",
    "# TODO: Fit the grid search object to the training data and find the optimal parameters\n",
    "grid_fit = grid_obj.fit(X_train,y_train)\n",
    "\n",
    "# Get the estimator\n",
    "best_clf = grid_fit.best_estimator_\n",
    "\n",
    "# Make predictions using the unoptimized and model\n",
    "predictions = (clf.fit(X_train, y_train)).predict(X_test)\n",
    "best_predictions = best_clf.predict(X_test)\n",
    "\n",
    "# Report the before-and-afterscores\n",
    "\n",
    "print(\"\\nOptimized Model\\n------\")\n",
    "print(\"Final f1 score on the testing data: {:.4f}\".format(round(f1_score(y_test, best_predictions,average='micro'),3)))\n"
   ]
  },
  {
   "cell_type": "markdown",
   "metadata": {},
   "source": [
    "#### F score for the refined model:\n",
    " The F score for the tuned Random Forest is 0.7400 which is slightly better than the un tuned F score."
   ]
  },
  {
   "cell_type": "markdown",
   "metadata": {},
   "source": [
    "### Feature Importance"
   ]
  },
  {
   "cell_type": "markdown",
   "metadata": {},
   "source": [
    "We will now find the important features according to their rank by using feature_importances_"
   ]
  },
  {
   "cell_type": "code",
   "execution_count": 46,
   "metadata": {},
   "outputs": [],
   "source": [
    "import matplotlib.pyplot as plt\n",
    "from sklearn.ensemble import RandomForestClassifier\n",
    "class feat_importances():\n",
    "    \n",
    "    def __init__(self, n_estimators=500, test_size=0.3, random_state=1):\n",
    "        self.test_size = test_size\n",
    "        self.random_state = random_state\n",
    "        self.n_estimators = n_estimators\n",
    "    # function for printing the feature ranking\n",
    "    def get_feat_importances(self, X, y):\n",
    "        print(\"Feature ranking:\")\n",
    "        X_train, X_test, y_train, y_test = \\\n",
    "            train_test_split(X, y, test_size=self.test_size, random_state=self.random_state)\n",
    "\n",
    "        # optional hyperparameters tuning for rf: criterion='gini', max_depth=300, min_samples_split=3, min_samples_leaf=1\n",
    "        feat_labels = X.columns\n",
    "        forest = RandomForestClassifier(n_estimators=self.n_estimators, random_state=self.random_state)\n",
    "        \n",
    "        forest.fit(X_train, y_train)\n",
    "        # we will now find the important features using feature_importances_\n",
    "        importances = forest.feature_importances_\n",
    "\n",
    "        indices = np.argsort(importances)[::-1]\n",
    "        \n",
    "        for f in range(X_train.shape[1]):\n",
    "            print(\"%2d) %-*s %f\" % (indices[f], 30, feat_labels[indices[f]], importances[indices[f]]))\n",
    "        plt.title('Feature Importance')\n",
    "        plt.bar(range(X_train.shape[1]), importances[indices], align='center')\n",
    "        plt.xticks(range(X_train.shape[1]), feat_labels[indices], rotation=90)\n",
    "        plt.xlim([-1, X_train.shape[1]])\n",
    "        plt.tight_layout()\n",
    "        plt.show()\n",
    "      \n",
    "        \n",
    "    #def plot_feat_importances():"
   ]
  },
  {
   "cell_type": "code",
   "execution_count": 47,
   "metadata": {},
   "outputs": [
    {
     "name": "stdout",
     "output_type": "stream",
     "text": [
      "Feature ranking:\n",
      "19) wrr_4                          0.037653\n",
      "20) wrr_5                          0.036209\n",
      "13) wrf_f                          0.034607\n",
      "18) wrr_3                          0.034324\n",
      "14) wrf_g                          0.033953\n",
      "21) wrr_6                          0.033392\n",
      "12) wrf_e                          0.033073\n",
      "11) wrf_d                          0.031509\n",
      "17) wrr_2                          0.030871\n",
      "22) wrr_7                          0.030840\n",
      "15) wrf_h                          0.030829\n",
      " 9) wrf_b                          0.029656\n",
      "10) wrf_c                          0.029470\n",
      "23) wrr_8                          0.029227\n",
      "30) bkf_g                          0.028807\n",
      "16) wrr_1                          0.028409\n",
      "31) bkf_h                          0.028004\n",
      "32) bkr_1                          0.027820\n",
      " 8) wrf_a                          0.027294\n",
      "34) bkr_3                          0.025261\n",
      "33) bkr_2                          0.024293\n",
      "29) bkf_f                          0.024031\n",
      "24) bkf_a                          0.023459\n",
      "25) bkf_b                          0.022866\n",
      " 3) wkf_d                          0.022866\n",
      " 2) wkf_c                          0.022182\n",
      "38) bkr_7                          0.021509\n",
      " 4) wkr_1                          0.021110\n",
      "39) bkr_8                          0.021059\n",
      "35) bkr_4                          0.021040\n",
      "37) bkr_6                          0.020392\n",
      "36) bkr_5                          0.019648\n",
      "28) bkf_e                          0.018824\n",
      " 1) wkf_b                          0.017790\n",
      "27) bkf_d                          0.016432\n",
      "26) bkf_c                          0.015547\n",
      " 6) wkr_3                          0.014301\n",
      " 5) wkr_2                          0.013228\n",
      " 0) wkf_a                          0.009254\n",
      " 7) wkr_4                          0.008960\n"
     ]
    },
    {
     "data": {
      "image/png": "[encoded data removed]",
      "text/plain": [
       "<Figure size 1080x576 with 1 Axes>"
      ]
     },
     "metadata": {
      "needs_background": "light"
     },
     "output_type": "display_data"
    }
   ],
   "source": [
    "# plotting the graph for Important Features\n",
    "plt.figure(figsize=(15, 8))\n",
    "feat_imp = feat_importances()\n",
    "feat_imp.get_feat_importances(X_train, y_train)"
   ]
  },
  {
   "cell_type": "markdown",
   "metadata": {},
   "source": [
    "## Conclusion:\n",
    " From the above models we can clearly say that Random Forest is the better model that can be used in King-Rook vs. King game. By using Tuned Random Forest we can achieve an F score of 0.7400 which is better than the other models. And we also concluded the imported features according to their rank that is wrr_4 is the most important feature and wkr_4 is the least important feature."
   ]
  }
 ],
 "metadata": {
  "kernelspec": {
   "display_name": "Python 3",
   "language": "python",
   "name": "python3"
  },
  "language_info": {
   "codemirror_mode": {
    "name": "ipython",
    "version": 3
   },
   "file_extension": ".py",
   "mimetype": "text/x-python",
   "name": "python",
   "nbconvert_exporter": "python",
   "pygments_lexer": "ipython3",
   "version": "3.7.1"
  }
 },
 "nbformat": 4,
 "nbformat_minor": 2
}
